{
 "cells": [
  {
   "cell_type": "markdown",
   "id": "4558c3d5",
   "metadata": {},
   "source": [
    "# 데이콘 제출용 작업\n",
    "- test.csv에 대한 모델의 성능을 확인하기 위한 코드\n",
    "- 제출 후 F1 점수 : 0.9463\n",
    " - 훈련 데이터만을 사용했을 때의 F1 점수와 큰 차이가 없음 -> 오버피팅되지 않은 모델임을 입증"
   ]
  },
  {
   "cell_type": "code",
   "execution_count": 1,
   "id": "4c546f25",
   "metadata": {},
   "outputs": [],
   "source": [
    "import pandas as pd\n",
    "import numpy as np\n",
    "import matplotlib.pyplot as plt\n",
    "import seaborn as sns\n",
    "\n",
    "from matplotlib import rc\n",
    "rc('font', family='AppleGothic')"
   ]
  },
  {
   "cell_type": "code",
   "execution_count": 20,
   "id": "84390381",
   "metadata": {
    "scrolled": true
   },
   "outputs": [
    {
     "data": {
      "text/html": [
       "<div>\n",
       "<style scoped>\n",
       "    .dataframe tbody tr th:only-of-type {\n",
       "        vertical-align: middle;\n",
       "    }\n",
       "\n",
       "    .dataframe tbody tr th {\n",
       "        vertical-align: top;\n",
       "    }\n",
       "\n",
       "    .dataframe thead th {\n",
       "        text-align: right;\n",
       "    }\n",
       "</style>\n",
       "<table border=\"1\" class=\"dataframe\">\n",
       "  <thead>\n",
       "    <tr style=\"text-align: right;\">\n",
       "      <th></th>\n",
       "      <th>ID</th>\n",
       "      <th>대출금액</th>\n",
       "      <th>대출기간</th>\n",
       "      <th>근로기간</th>\n",
       "      <th>주택소유상태</th>\n",
       "      <th>연간소득</th>\n",
       "      <th>부채_대비_소득_비율</th>\n",
       "      <th>총계좌수</th>\n",
       "      <th>대출목적</th>\n",
       "      <th>최근_2년간_연체_횟수</th>\n",
       "      <th>총상환원금</th>\n",
       "      <th>총상환이자</th>\n",
       "      <th>총연체금액</th>\n",
       "      <th>연체계좌수</th>\n",
       "      <th>대출등급</th>\n",
       "    </tr>\n",
       "  </thead>\n",
       "  <tbody>\n",
       "    <tr>\n",
       "      <th>0</th>\n",
       "      <td>TRAIN_00000</td>\n",
       "      <td>12480000</td>\n",
       "      <td>36 months</td>\n",
       "      <td>6 years</td>\n",
       "      <td>RENT</td>\n",
       "      <td>72000000</td>\n",
       "      <td>18.90</td>\n",
       "      <td>15</td>\n",
       "      <td>부채 통합</td>\n",
       "      <td>0</td>\n",
       "      <td>0</td>\n",
       "      <td>0.0</td>\n",
       "      <td>0.0</td>\n",
       "      <td>0.0</td>\n",
       "      <td>C</td>\n",
       "    </tr>\n",
       "    <tr>\n",
       "      <th>1</th>\n",
       "      <td>TRAIN_00001</td>\n",
       "      <td>14400000</td>\n",
       "      <td>60 months</td>\n",
       "      <td>10+ years</td>\n",
       "      <td>MORTGAGE</td>\n",
       "      <td>130800000</td>\n",
       "      <td>22.33</td>\n",
       "      <td>21</td>\n",
       "      <td>주택 개선</td>\n",
       "      <td>0</td>\n",
       "      <td>373572</td>\n",
       "      <td>234060.0</td>\n",
       "      <td>0.0</td>\n",
       "      <td>0.0</td>\n",
       "      <td>B</td>\n",
       "    </tr>\n",
       "    <tr>\n",
       "      <th>2</th>\n",
       "      <td>TRAIN_00002</td>\n",
       "      <td>12000000</td>\n",
       "      <td>36 months</td>\n",
       "      <td>5 years</td>\n",
       "      <td>MORTGAGE</td>\n",
       "      <td>96000000</td>\n",
       "      <td>8.60</td>\n",
       "      <td>14</td>\n",
       "      <td>부채 통합</td>\n",
       "      <td>0</td>\n",
       "      <td>928644</td>\n",
       "      <td>151944.0</td>\n",
       "      <td>0.0</td>\n",
       "      <td>0.0</td>\n",
       "      <td>A</td>\n",
       "    </tr>\n",
       "    <tr>\n",
       "      <th>3</th>\n",
       "      <td>TRAIN_00003</td>\n",
       "      <td>14400000</td>\n",
       "      <td>36 months</td>\n",
       "      <td>8 years</td>\n",
       "      <td>MORTGAGE</td>\n",
       "      <td>132000000</td>\n",
       "      <td>15.09</td>\n",
       "      <td>15</td>\n",
       "      <td>부채 통합</td>\n",
       "      <td>0</td>\n",
       "      <td>325824</td>\n",
       "      <td>153108.0</td>\n",
       "      <td>0.0</td>\n",
       "      <td>0.0</td>\n",
       "      <td>C</td>\n",
       "    </tr>\n",
       "    <tr>\n",
       "      <th>4</th>\n",
       "      <td>TRAIN_00004</td>\n",
       "      <td>18000000</td>\n",
       "      <td>60 months</td>\n",
       "      <td>Unknown</td>\n",
       "      <td>RENT</td>\n",
       "      <td>71736000</td>\n",
       "      <td>25.39</td>\n",
       "      <td>19</td>\n",
       "      <td>주요 구매</td>\n",
       "      <td>0</td>\n",
       "      <td>228540</td>\n",
       "      <td>148956.0</td>\n",
       "      <td>0.0</td>\n",
       "      <td>0.0</td>\n",
       "      <td>B</td>\n",
       "    </tr>\n",
       "  </tbody>\n",
       "</table>\n",
       "</div>"
      ],
      "text/plain": [
       "            ID      대출금액        대출기간       근로기간    주택소유상태       연간소득  \\\n",
       "0  TRAIN_00000  12480000   36 months    6 years      RENT   72000000   \n",
       "1  TRAIN_00001  14400000   60 months  10+ years  MORTGAGE  130800000   \n",
       "2  TRAIN_00002  12000000   36 months    5 years  MORTGAGE   96000000   \n",
       "3  TRAIN_00003  14400000   36 months    8 years  MORTGAGE  132000000   \n",
       "4  TRAIN_00004  18000000   60 months    Unknown      RENT   71736000   \n",
       "\n",
       "   부채_대비_소득_비율  총계좌수   대출목적  최근_2년간_연체_횟수   총상환원금     총상환이자  총연체금액  연체계좌수 대출등급  \n",
       "0        18.90    15  부채 통합             0       0       0.0    0.0    0.0    C  \n",
       "1        22.33    21  주택 개선             0  373572  234060.0    0.0    0.0    B  \n",
       "2         8.60    14  부채 통합             0  928644  151944.0    0.0    0.0    A  \n",
       "3        15.09    15  부채 통합             0  325824  153108.0    0.0    0.0    C  \n",
       "4        25.39    19  주요 구매             0  228540  148956.0    0.0    0.0    B  "
      ]
     },
     "execution_count": 20,
     "metadata": {},
     "output_type": "execute_result"
    }
   ],
   "source": [
    "train = pd.read_csv('train.csv')\n",
    "train.head()"
   ]
  },
  {
   "cell_type": "code",
   "execution_count": 21,
   "id": "7458c874",
   "metadata": {},
   "outputs": [],
   "source": [
    "# 총상환원금비율과 총상환이자비율 추가\n",
    "train['총상환원금비율'] = train['총상환원금'] / train['대출금액']\n",
    "train['총상환이자비율'] = train['총상환이자'] / train['대출금액']"
   ]
  },
  {
   "cell_type": "code",
   "execution_count": 22,
   "id": "79223061",
   "metadata": {},
   "outputs": [
    {
     "data": {
      "text/plain": [
       "array(['6 years', '10+ years', '5 years', '8 years', 'Unknown', '9 years',\n",
       "       '2 years', '1 year', '3 years', '7 years', '4 years', '< 1 year'],\n",
       "      dtype=object)"
      ]
     },
     "execution_count": 22,
     "metadata": {},
     "output_type": "execute_result"
    }
   ],
   "source": [
    "# 근로기간 데이터 정리\n",
    "train['근로기간'] = train['근로기간'].replace('1 years', '1 year')\n",
    "train['근로기간'] = train['근로기간'].replace('<1 year', '< 1 year')\n",
    "train['근로기간'] = train['근로기간'].replace('3', '3 years')\n",
    "train['근로기간'] = train['근로기간'].replace('10+years', '10+ years')\n",
    "train['근로기간'].unique()"
   ]
  },
  {
   "cell_type": "code",
   "execution_count": 23,
   "id": "ba5029b7",
   "metadata": {},
   "outputs": [],
   "source": [
    "# 대출기간 타입변환 object -> int\n",
    "# 단위 개월 -> 년\n",
    "train['대출기간'].replace({' 36 months' : '3', ' 60 months' : '5'}, inplace=True)\n",
    "train['대출기간'] = train['대출기간'].astype('int64')"
   ]
  },
  {
   "cell_type": "code",
   "execution_count": 24,
   "id": "f8ebb674",
   "metadata": {},
   "outputs": [
    {
     "data": {
      "text/plain": [
       "0"
      ]
     },
     "execution_count": 24,
     "metadata": {},
     "output_type": "execute_result"
    }
   ],
   "source": [
    "# 1개밖에 없으니 최빈값(MORTGAGE)으로 채우기로 결정\n",
    "train.loc[train['주택소유상태'] == 'ANY', '주택소유상태'] = 'MORTGAGE'\n",
    "train[train['주택소유상태'] == 'ANY'].value_counts().sum()"
   ]
  },
  {
   "cell_type": "code",
   "execution_count": 26,
   "id": "d02a6f34",
   "metadata": {},
   "outputs": [],
   "source": [
    "# unknown은 0으로 처리\n",
    "train['근로기간'] = train['근로기간'].replace('Unknown', '0')"
   ]
  },
  {
   "cell_type": "code",
   "execution_count": 28,
   "id": "bfae3e75",
   "metadata": {},
   "outputs": [],
   "source": [
    "# 로그 변환 (왜도가 있는 연간소득, 총상환원금, 총상환이자에 대한 처리)\n",
    "train['연간소득_log'] = np.log1p(train['연간소득'])\n",
    "train['총상환원금_log'] = np.log1p(train['총상환원금'])\n",
    "train['총상환이자_log'] = np.log1p(train['총상환이자'])"
   ]
  },
  {
   "cell_type": "code",
   "execution_count": 29,
   "id": "a26422b6",
   "metadata": {
    "collapsed": true
   },
   "outputs": [
    {
     "data": {
      "text/html": [
       "<div>\n",
       "<style scoped>\n",
       "    .dataframe tbody tr th:only-of-type {\n",
       "        vertical-align: middle;\n",
       "    }\n",
       "\n",
       "    .dataframe tbody tr th {\n",
       "        vertical-align: top;\n",
       "    }\n",
       "\n",
       "    .dataframe thead th {\n",
       "        text-align: right;\n",
       "    }\n",
       "</style>\n",
       "<table border=\"1\" class=\"dataframe\">\n",
       "  <thead>\n",
       "    <tr style=\"text-align: right;\">\n",
       "      <th></th>\n",
       "      <th>ID</th>\n",
       "      <th>대출금액</th>\n",
       "      <th>대출기간</th>\n",
       "      <th>근로기간</th>\n",
       "      <th>주택소유상태</th>\n",
       "      <th>연간소득</th>\n",
       "      <th>부채_대비_소득_비율</th>\n",
       "      <th>총계좌수</th>\n",
       "      <th>대출목적</th>\n",
       "      <th>최근_2년간_연체_횟수</th>\n",
       "      <th>총상환원금</th>\n",
       "      <th>총상환이자</th>\n",
       "      <th>총연체금액</th>\n",
       "      <th>연체계좌수</th>\n",
       "      <th>대출등급</th>\n",
       "      <th>총상환원금비율</th>\n",
       "      <th>총상환이자비율</th>\n",
       "      <th>연간소득_log</th>\n",
       "      <th>총상환원금_log</th>\n",
       "      <th>총상환이자_log</th>\n",
       "    </tr>\n",
       "  </thead>\n",
       "  <tbody>\n",
       "    <tr>\n",
       "      <th>0</th>\n",
       "      <td>TRAIN_00000</td>\n",
       "      <td>12480000</td>\n",
       "      <td>3</td>\n",
       "      <td>6 years</td>\n",
       "      <td>RENT</td>\n",
       "      <td>72000000</td>\n",
       "      <td>18.90</td>\n",
       "      <td>15</td>\n",
       "      <td>부채 통합</td>\n",
       "      <td>0</td>\n",
       "      <td>0</td>\n",
       "      <td>0.0</td>\n",
       "      <td>0.0</td>\n",
       "      <td>0.0</td>\n",
       "      <td>C</td>\n",
       "      <td>0.000000</td>\n",
       "      <td>0.000000</td>\n",
       "      <td>18.092177</td>\n",
       "      <td>0.000000</td>\n",
       "      <td>0.000000</td>\n",
       "    </tr>\n",
       "    <tr>\n",
       "      <th>1</th>\n",
       "      <td>TRAIN_00001</td>\n",
       "      <td>14400000</td>\n",
       "      <td>5</td>\n",
       "      <td>10+ years</td>\n",
       "      <td>MORTGAGE</td>\n",
       "      <td>130800000</td>\n",
       "      <td>22.33</td>\n",
       "      <td>21</td>\n",
       "      <td>주택 개선</td>\n",
       "      <td>0</td>\n",
       "      <td>373572</td>\n",
       "      <td>234060.0</td>\n",
       "      <td>0.0</td>\n",
       "      <td>0.0</td>\n",
       "      <td>B</td>\n",
       "      <td>0.025943</td>\n",
       "      <td>0.016254</td>\n",
       "      <td>18.689180</td>\n",
       "      <td>12.830869</td>\n",
       "      <td>12.363337</td>\n",
       "    </tr>\n",
       "    <tr>\n",
       "      <th>2</th>\n",
       "      <td>TRAIN_00002</td>\n",
       "      <td>12000000</td>\n",
       "      <td>3</td>\n",
       "      <td>5 years</td>\n",
       "      <td>MORTGAGE</td>\n",
       "      <td>96000000</td>\n",
       "      <td>8.60</td>\n",
       "      <td>14</td>\n",
       "      <td>부채 통합</td>\n",
       "      <td>0</td>\n",
       "      <td>928644</td>\n",
       "      <td>151944.0</td>\n",
       "      <td>0.0</td>\n",
       "      <td>0.0</td>\n",
       "      <td>A</td>\n",
       "      <td>0.077387</td>\n",
       "      <td>0.012662</td>\n",
       "      <td>18.379859</td>\n",
       "      <td>13.741482</td>\n",
       "      <td>11.931274</td>\n",
       "    </tr>\n",
       "    <tr>\n",
       "      <th>3</th>\n",
       "      <td>TRAIN_00003</td>\n",
       "      <td>14400000</td>\n",
       "      <td>3</td>\n",
       "      <td>8 years</td>\n",
       "      <td>MORTGAGE</td>\n",
       "      <td>132000000</td>\n",
       "      <td>15.09</td>\n",
       "      <td>15</td>\n",
       "      <td>부채 통합</td>\n",
       "      <td>0</td>\n",
       "      <td>325824</td>\n",
       "      <td>153108.0</td>\n",
       "      <td>0.0</td>\n",
       "      <td>0.0</td>\n",
       "      <td>C</td>\n",
       "      <td>0.022627</td>\n",
       "      <td>0.010632</td>\n",
       "      <td>18.698312</td>\n",
       "      <td>12.694116</td>\n",
       "      <td>11.938905</td>\n",
       "    </tr>\n",
       "    <tr>\n",
       "      <th>4</th>\n",
       "      <td>TRAIN_00004</td>\n",
       "      <td>18000000</td>\n",
       "      <td>5</td>\n",
       "      <td>0</td>\n",
       "      <td>RENT</td>\n",
       "      <td>71736000</td>\n",
       "      <td>25.39</td>\n",
       "      <td>19</td>\n",
       "      <td>주요 구매</td>\n",
       "      <td>0</td>\n",
       "      <td>228540</td>\n",
       "      <td>148956.0</td>\n",
       "      <td>0.0</td>\n",
       "      <td>0.0</td>\n",
       "      <td>B</td>\n",
       "      <td>0.012697</td>\n",
       "      <td>0.008275</td>\n",
       "      <td>18.088503</td>\n",
       "      <td>12.339471</td>\n",
       "      <td>11.911413</td>\n",
       "    </tr>\n",
       "  </tbody>\n",
       "</table>\n",
       "</div>"
      ],
      "text/plain": [
       "            ID      대출금액  대출기간       근로기간    주택소유상태       연간소득  부채_대비_소득_비율  \\\n",
       "0  TRAIN_00000  12480000     3    6 years      RENT   72000000        18.90   \n",
       "1  TRAIN_00001  14400000     5  10+ years  MORTGAGE  130800000        22.33   \n",
       "2  TRAIN_00002  12000000     3    5 years  MORTGAGE   96000000         8.60   \n",
       "3  TRAIN_00003  14400000     3    8 years  MORTGAGE  132000000        15.09   \n",
       "4  TRAIN_00004  18000000     5          0      RENT   71736000        25.39   \n",
       "\n",
       "   총계좌수   대출목적  최근_2년간_연체_횟수   총상환원금     총상환이자  총연체금액  연체계좌수 대출등급   총상환원금비율  \\\n",
       "0    15  부채 통합             0       0       0.0    0.0    0.0    C  0.000000   \n",
       "1    21  주택 개선             0  373572  234060.0    0.0    0.0    B  0.025943   \n",
       "2    14  부채 통합             0  928644  151944.0    0.0    0.0    A  0.077387   \n",
       "3    15  부채 통합             0  325824  153108.0    0.0    0.0    C  0.022627   \n",
       "4    19  주요 구매             0  228540  148956.0    0.0    0.0    B  0.012697   \n",
       "\n",
       "    총상환이자비율   연간소득_log  총상환원금_log  총상환이자_log  \n",
       "0  0.000000  18.092177   0.000000   0.000000  \n",
       "1  0.016254  18.689180  12.830869  12.363337  \n",
       "2  0.012662  18.379859  13.741482  11.931274  \n",
       "3  0.010632  18.698312  12.694116  11.938905  \n",
       "4  0.008275  18.088503  12.339471  11.911413  "
      ]
     },
     "execution_count": 29,
     "metadata": {},
     "output_type": "execute_result"
    }
   ],
   "source": [
    "train.head()"
   ]
  },
  {
   "cell_type": "code",
   "execution_count": 32,
   "id": "ad3a0575",
   "metadata": {},
   "outputs": [
    {
     "data": {
      "text/plain": [
       "(96294, 20)"
      ]
     },
     "execution_count": 32,
     "metadata": {},
     "output_type": "execute_result"
    }
   ],
   "source": [
    "train.shape"
   ]
  },
  {
   "cell_type": "code",
   "execution_count": 33,
   "id": "d7ef9e1f",
   "metadata": {
    "scrolled": true
   },
   "outputs": [
    {
     "data": {
      "text/html": [
       "<div>\n",
       "<style scoped>\n",
       "    .dataframe tbody tr th:only-of-type {\n",
       "        vertical-align: middle;\n",
       "    }\n",
       "\n",
       "    .dataframe tbody tr th {\n",
       "        vertical-align: top;\n",
       "    }\n",
       "\n",
       "    .dataframe thead th {\n",
       "        text-align: right;\n",
       "    }\n",
       "</style>\n",
       "<table border=\"1\" class=\"dataframe\">\n",
       "  <thead>\n",
       "    <tr style=\"text-align: right;\">\n",
       "      <th></th>\n",
       "      <th>대출등급</th>\n",
       "      <th>총상환원금비율</th>\n",
       "      <th>총상환이자비율</th>\n",
       "      <th>총상환원금_log</th>\n",
       "      <th>총상환이자_log</th>\n",
       "    </tr>\n",
       "  </thead>\n",
       "  <tbody>\n",
       "    <tr>\n",
       "      <th>0</th>\n",
       "      <td>C</td>\n",
       "      <td>0.000000</td>\n",
       "      <td>0.000000</td>\n",
       "      <td>0.000000</td>\n",
       "      <td>0.000000</td>\n",
       "    </tr>\n",
       "    <tr>\n",
       "      <th>1</th>\n",
       "      <td>B</td>\n",
       "      <td>0.025943</td>\n",
       "      <td>0.016254</td>\n",
       "      <td>12.830869</td>\n",
       "      <td>12.363337</td>\n",
       "    </tr>\n",
       "    <tr>\n",
       "      <th>2</th>\n",
       "      <td>A</td>\n",
       "      <td>0.077387</td>\n",
       "      <td>0.012662</td>\n",
       "      <td>13.741482</td>\n",
       "      <td>11.931274</td>\n",
       "    </tr>\n",
       "    <tr>\n",
       "      <th>3</th>\n",
       "      <td>C</td>\n",
       "      <td>0.022627</td>\n",
       "      <td>0.010632</td>\n",
       "      <td>12.694116</td>\n",
       "      <td>11.938905</td>\n",
       "    </tr>\n",
       "    <tr>\n",
       "      <th>4</th>\n",
       "      <td>B</td>\n",
       "      <td>0.012697</td>\n",
       "      <td>0.008275</td>\n",
       "      <td>12.339471</td>\n",
       "      <td>11.911413</td>\n",
       "    </tr>\n",
       "  </tbody>\n",
       "</table>\n",
       "</div>"
      ],
      "text/plain": [
       "  대출등급   총상환원금비율   총상환이자비율  총상환원금_log  총상환이자_log\n",
       "0    C  0.000000  0.000000   0.000000   0.000000\n",
       "1    B  0.025943  0.016254  12.830869  12.363337\n",
       "2    A  0.077387  0.012662  13.741482  11.931274\n",
       "3    C  0.022627  0.010632  12.694116  11.938905\n",
       "4    B  0.012697  0.008275  12.339471  11.911413"
      ]
     },
     "execution_count": 33,
     "metadata": {},
     "output_type": "execute_result"
    }
   ],
   "source": [
    "train_df = train[['대출등급', '총상환원금비율', '총상환이자비율', '총상환원금_log', '총상환이자_log']]\n",
    "train_df.head()"
   ]
  },
  {
   "cell_type": "markdown",
   "id": "c95c273b",
   "metadata": {},
   "source": [
    "## test 데이터 전처리\n"
   ]
  },
  {
   "cell_type": "code",
   "execution_count": 9,
   "id": "3ac734dc",
   "metadata": {},
   "outputs": [
    {
     "data": {
      "text/html": [
       "<div>\n",
       "<style scoped>\n",
       "    .dataframe tbody tr th:only-of-type {\n",
       "        vertical-align: middle;\n",
       "    }\n",
       "\n",
       "    .dataframe tbody tr th {\n",
       "        vertical-align: top;\n",
       "    }\n",
       "\n",
       "    .dataframe thead th {\n",
       "        text-align: right;\n",
       "    }\n",
       "</style>\n",
       "<table border=\"1\" class=\"dataframe\">\n",
       "  <thead>\n",
       "    <tr style=\"text-align: right;\">\n",
       "      <th></th>\n",
       "      <th>대출금액</th>\n",
       "      <th>대출기간</th>\n",
       "      <th>근로기간</th>\n",
       "      <th>주택소유상태</th>\n",
       "      <th>연간소득</th>\n",
       "      <th>부채_대비_소득_비율</th>\n",
       "      <th>총계좌수</th>\n",
       "      <th>대출목적</th>\n",
       "      <th>최근_2년간_연체_횟수</th>\n",
       "      <th>총상환원금</th>\n",
       "      <th>총상환이자</th>\n",
       "      <th>총연체금액</th>\n",
       "      <th>연체계좌수</th>\n",
       "    </tr>\n",
       "  </thead>\n",
       "  <tbody>\n",
       "    <tr>\n",
       "      <th>0</th>\n",
       "      <td>16800000</td>\n",
       "      <td>3</td>\n",
       "      <td>8 years</td>\n",
       "      <td>MORTGAGE</td>\n",
       "      <td>132000000</td>\n",
       "      <td>19.64</td>\n",
       "      <td>12</td>\n",
       "      <td>주택 개선</td>\n",
       "      <td>0</td>\n",
       "      <td>394692</td>\n",
       "      <td>146604.0</td>\n",
       "      <td>0.0</td>\n",
       "      <td>0.0</td>\n",
       "    </tr>\n",
       "    <tr>\n",
       "      <th>1</th>\n",
       "      <td>8400000</td>\n",
       "      <td>3</td>\n",
       "      <td>5 years</td>\n",
       "      <td>RENT</td>\n",
       "      <td>89971200</td>\n",
       "      <td>15.84</td>\n",
       "      <td>25</td>\n",
       "      <td>부채 통합</td>\n",
       "      <td>0</td>\n",
       "      <td>0</td>\n",
       "      <td>0.0</td>\n",
       "      <td>0.0</td>\n",
       "      <td>0.0</td>\n",
       "    </tr>\n",
       "    <tr>\n",
       "      <th>2</th>\n",
       "      <td>17280000</td>\n",
       "      <td>3</td>\n",
       "      <td>6 years</td>\n",
       "      <td>RENT</td>\n",
       "      <td>150000000</td>\n",
       "      <td>8.41</td>\n",
       "      <td>20</td>\n",
       "      <td>신용 카드</td>\n",
       "      <td>0</td>\n",
       "      <td>1786980</td>\n",
       "      <td>281820.0</td>\n",
       "      <td>0.0</td>\n",
       "      <td>0.0</td>\n",
       "    </tr>\n",
       "    <tr>\n",
       "      <th>3</th>\n",
       "      <td>14400000</td>\n",
       "      <td>3</td>\n",
       "      <td>5 years</td>\n",
       "      <td>MORTGAGE</td>\n",
       "      <td>66000000</td>\n",
       "      <td>13.72</td>\n",
       "      <td>30</td>\n",
       "      <td>신용 카드</td>\n",
       "      <td>1</td>\n",
       "      <td>669024</td>\n",
       "      <td>281724.0</td>\n",
       "      <td>0.0</td>\n",
       "      <td>0.0</td>\n",
       "    </tr>\n",
       "    <tr>\n",
       "      <th>4</th>\n",
       "      <td>27600000</td>\n",
       "      <td>3</td>\n",
       "      <td>5 years</td>\n",
       "      <td>RENT</td>\n",
       "      <td>55200000</td>\n",
       "      <td>30.50</td>\n",
       "      <td>12</td>\n",
       "      <td>신용 카드</td>\n",
       "      <td>0</td>\n",
       "      <td>1250052</td>\n",
       "      <td>614844.0</td>\n",
       "      <td>0.0</td>\n",
       "      <td>0.0</td>\n",
       "    </tr>\n",
       "  </tbody>\n",
       "</table>\n",
       "</div>"
      ],
      "text/plain": [
       "       대출금액  대출기간     근로기간    주택소유상태       연간소득  부채_대비_소득_비율  총계좌수   대출목적  \\\n",
       "0  16800000     3  8 years  MORTGAGE  132000000        19.64    12  주택 개선   \n",
       "1   8400000     3  5 years      RENT   89971200        15.84    25  부채 통합   \n",
       "2  17280000     3  6 years      RENT  150000000         8.41    20  신용 카드   \n",
       "3  14400000     3  5 years  MORTGAGE   66000000        13.72    30  신용 카드   \n",
       "4  27600000     3  5 years      RENT   55200000        30.50    12  신용 카드   \n",
       "\n",
       "   최근_2년간_연체_횟수    총상환원금     총상환이자  총연체금액  연체계좌수  \n",
       "0             0   394692  146604.0    0.0    0.0  \n",
       "1             0        0       0.0    0.0    0.0  \n",
       "2             0  1786980  281820.0    0.0    0.0  \n",
       "3             1   669024  281724.0    0.0    0.0  \n",
       "4             0  1250052  614844.0    0.0    0.0  "
      ]
     },
     "execution_count": 9,
     "metadata": {},
     "output_type": "execute_result"
    }
   ],
   "source": [
    "test = pd.read_csv('test_pre.csv')\n",
    "test.head()"
   ]
  },
  {
   "cell_type": "code",
   "execution_count": 10,
   "id": "7a59c6a3",
   "metadata": {},
   "outputs": [
    {
     "data": {
      "text/plain": [
       "array(['주택 개선', '부채 통합', '신용 카드', '기타', '주요 구매', '이사', '휴가', '소규모 사업',\n",
       "       '주택', '의료', '자동차', '재생 에너지', '결혼'], dtype=object)"
      ]
     },
     "execution_count": 10,
     "metadata": {},
     "output_type": "execute_result"
    }
   ],
   "source": [
    "test['대출목적'].unique()"
   ]
  },
  {
   "cell_type": "code",
   "execution_count": 11,
   "id": "9ce08452",
   "metadata": {},
   "outputs": [],
   "source": [
    "test['대출목적'].replace('결혼', '기타', inplace=True)"
   ]
  },
  {
   "cell_type": "code",
   "execution_count": 12,
   "id": "6e633d2c",
   "metadata": {},
   "outputs": [
    {
     "data": {
      "text/plain": [
       "array(['주택 개선', '부채 통합', '신용 카드', '기타', '주요 구매', '이사', '휴가', '소규모 사업',\n",
       "       '주택', '의료', '자동차', '재생 에너지'], dtype=object)"
      ]
     },
     "execution_count": 12,
     "metadata": {},
     "output_type": "execute_result"
    }
   ],
   "source": [
    "test['대출목적'].unique()"
   ]
  },
  {
   "cell_type": "code",
   "execution_count": 13,
   "id": "b5a9ccef",
   "metadata": {},
   "outputs": [
    {
     "data": {
      "text/plain": [
       "array(['8 years', '5 years', '6 years', '0', '10+ years', '3 years',\n",
       "       '< 1 year', '1 year', '7 years', '4 years', '2 years', '9 years'],\n",
       "      dtype=object)"
      ]
     },
     "execution_count": 13,
     "metadata": {},
     "output_type": "execute_result"
    }
   ],
   "source": [
    "test['근로기간'].unique()"
   ]
  },
  {
   "cell_type": "code",
   "execution_count": 15,
   "id": "ea26b1e7",
   "metadata": {},
   "outputs": [
    {
     "data": {
      "text/plain": [
       "(64197, 13)"
      ]
     },
     "execution_count": 15,
     "metadata": {},
     "output_type": "execute_result"
    }
   ],
   "source": [
    "test.shape"
   ]
  },
  {
   "cell_type": "code",
   "execution_count": 16,
   "id": "b6d25c41",
   "metadata": {},
   "outputs": [],
   "source": [
    "# 총상환원금비율과 총상환이자비율 추가\n",
    "test['총상환원금비율'] = test['총상환원금'] / test['대출금액']\n",
    "test['총상환이자비율'] = test['총상환이자'] / test['대출금액']"
   ]
  },
  {
   "cell_type": "code",
   "execution_count": 17,
   "id": "6580b386",
   "metadata": {},
   "outputs": [],
   "source": [
    "test['연간소득_log'] = np.log1p(test['연간소득'])\n",
    "test['총상환원금_log'] = np.log1p(test['총상환원금'])\n",
    "test['총상환이자_log'] = np.log1p(test['총상환이자'])"
   ]
  },
  {
   "cell_type": "code",
   "execution_count": 25,
   "id": "3ed39bde",
   "metadata": {},
   "outputs": [
    {
     "data": {
      "text/plain": [
       "0"
      ]
     },
     "execution_count": 25,
     "metadata": {},
     "output_type": "execute_result"
    }
   ],
   "source": [
    "test.loc[test['주택소유상태'] == 'ANY', '주택소유상태'] = 'MORTGAGE'\n",
    "test[test['주택소유상태'] == 'ANY'].value_counts().sum()"
   ]
  },
  {
   "cell_type": "code",
   "execution_count": 27,
   "id": "d45598b8",
   "metadata": {},
   "outputs": [],
   "source": [
    "# unknown은 0으로 처리\n",
    "test['근로기간'] = test['근로기간'].replace('Unknown', '0')"
   ]
  },
  {
   "cell_type": "code",
   "execution_count": 30,
   "id": "f7971aea",
   "metadata": {},
   "outputs": [
    {
     "data": {
      "text/html": [
       "<div>\n",
       "<style scoped>\n",
       "    .dataframe tbody tr th:only-of-type {\n",
       "        vertical-align: middle;\n",
       "    }\n",
       "\n",
       "    .dataframe tbody tr th {\n",
       "        vertical-align: top;\n",
       "    }\n",
       "\n",
       "    .dataframe thead th {\n",
       "        text-align: right;\n",
       "    }\n",
       "</style>\n",
       "<table border=\"1\" class=\"dataframe\">\n",
       "  <thead>\n",
       "    <tr style=\"text-align: right;\">\n",
       "      <th></th>\n",
       "      <th>대출금액</th>\n",
       "      <th>대출기간</th>\n",
       "      <th>근로기간</th>\n",
       "      <th>주택소유상태</th>\n",
       "      <th>연간소득</th>\n",
       "      <th>부채_대비_소득_비율</th>\n",
       "      <th>총계좌수</th>\n",
       "      <th>대출목적</th>\n",
       "      <th>최근_2년간_연체_횟수</th>\n",
       "      <th>총상환원금</th>\n",
       "      <th>총상환이자</th>\n",
       "      <th>총연체금액</th>\n",
       "      <th>연체계좌수</th>\n",
       "      <th>총상환원금비율</th>\n",
       "      <th>총상환이자비율</th>\n",
       "      <th>연간소득_log</th>\n",
       "      <th>총상환원금_log</th>\n",
       "      <th>총상환이자_log</th>\n",
       "    </tr>\n",
       "  </thead>\n",
       "  <tbody>\n",
       "    <tr>\n",
       "      <th>0</th>\n",
       "      <td>16800000</td>\n",
       "      <td>3</td>\n",
       "      <td>8 years</td>\n",
       "      <td>MORTGAGE</td>\n",
       "      <td>132000000</td>\n",
       "      <td>19.64</td>\n",
       "      <td>12</td>\n",
       "      <td>주택 개선</td>\n",
       "      <td>0</td>\n",
       "      <td>394692</td>\n",
       "      <td>146604.0</td>\n",
       "      <td>0.0</td>\n",
       "      <td>0.0</td>\n",
       "      <td>0.023494</td>\n",
       "      <td>0.008726</td>\n",
       "      <td>18.698312</td>\n",
       "      <td>12.885864</td>\n",
       "      <td>11.895497</td>\n",
       "    </tr>\n",
       "    <tr>\n",
       "      <th>1</th>\n",
       "      <td>8400000</td>\n",
       "      <td>3</td>\n",
       "      <td>5 years</td>\n",
       "      <td>RENT</td>\n",
       "      <td>89971200</td>\n",
       "      <td>15.84</td>\n",
       "      <td>25</td>\n",
       "      <td>부채 통합</td>\n",
       "      <td>0</td>\n",
       "      <td>0</td>\n",
       "      <td>0.0</td>\n",
       "      <td>0.0</td>\n",
       "      <td>0.0</td>\n",
       "      <td>0.000000</td>\n",
       "      <td>0.000000</td>\n",
       "      <td>18.315000</td>\n",
       "      <td>0.000000</td>\n",
       "      <td>0.000000</td>\n",
       "    </tr>\n",
       "    <tr>\n",
       "      <th>2</th>\n",
       "      <td>17280000</td>\n",
       "      <td>3</td>\n",
       "      <td>6 years</td>\n",
       "      <td>RENT</td>\n",
       "      <td>150000000</td>\n",
       "      <td>8.41</td>\n",
       "      <td>20</td>\n",
       "      <td>신용 카드</td>\n",
       "      <td>0</td>\n",
       "      <td>1786980</td>\n",
       "      <td>281820.0</td>\n",
       "      <td>0.0</td>\n",
       "      <td>0.0</td>\n",
       "      <td>0.103413</td>\n",
       "      <td>0.016309</td>\n",
       "      <td>18.826146</td>\n",
       "      <td>14.396038</td>\n",
       "      <td>12.549027</td>\n",
       "    </tr>\n",
       "    <tr>\n",
       "      <th>3</th>\n",
       "      <td>14400000</td>\n",
       "      <td>3</td>\n",
       "      <td>5 years</td>\n",
       "      <td>MORTGAGE</td>\n",
       "      <td>66000000</td>\n",
       "      <td>13.72</td>\n",
       "      <td>30</td>\n",
       "      <td>신용 카드</td>\n",
       "      <td>1</td>\n",
       "      <td>669024</td>\n",
       "      <td>281724.0</td>\n",
       "      <td>0.0</td>\n",
       "      <td>0.0</td>\n",
       "      <td>0.046460</td>\n",
       "      <td>0.019564</td>\n",
       "      <td>18.005165</td>\n",
       "      <td>13.413577</td>\n",
       "      <td>12.548687</td>\n",
       "    </tr>\n",
       "    <tr>\n",
       "      <th>4</th>\n",
       "      <td>27600000</td>\n",
       "      <td>3</td>\n",
       "      <td>5 years</td>\n",
       "      <td>RENT</td>\n",
       "      <td>55200000</td>\n",
       "      <td>30.50</td>\n",
       "      <td>12</td>\n",
       "      <td>신용 카드</td>\n",
       "      <td>0</td>\n",
       "      <td>1250052</td>\n",
       "      <td>614844.0</td>\n",
       "      <td>0.0</td>\n",
       "      <td>0.0</td>\n",
       "      <td>0.045292</td>\n",
       "      <td>0.022277</td>\n",
       "      <td>17.826474</td>\n",
       "      <td>14.038697</td>\n",
       "      <td>13.329125</td>\n",
       "    </tr>\n",
       "  </tbody>\n",
       "</table>\n",
       "</div>"
      ],
      "text/plain": [
       "       대출금액  대출기간     근로기간    주택소유상태       연간소득  부채_대비_소득_비율  총계좌수   대출목적  \\\n",
       "0  16800000     3  8 years  MORTGAGE  132000000        19.64    12  주택 개선   \n",
       "1   8400000     3  5 years      RENT   89971200        15.84    25  부채 통합   \n",
       "2  17280000     3  6 years      RENT  150000000         8.41    20  신용 카드   \n",
       "3  14400000     3  5 years  MORTGAGE   66000000        13.72    30  신용 카드   \n",
       "4  27600000     3  5 years      RENT   55200000        30.50    12  신용 카드   \n",
       "\n",
       "   최근_2년간_연체_횟수    총상환원금     총상환이자  총연체금액  연체계좌수   총상환원금비율   총상환이자비율  \\\n",
       "0             0   394692  146604.0    0.0    0.0  0.023494  0.008726   \n",
       "1             0        0       0.0    0.0    0.0  0.000000  0.000000   \n",
       "2             0  1786980  281820.0    0.0    0.0  0.103413  0.016309   \n",
       "3             1   669024  281724.0    0.0    0.0  0.046460  0.019564   \n",
       "4             0  1250052  614844.0    0.0    0.0  0.045292  0.022277   \n",
       "\n",
       "    연간소득_log  총상환원금_log  총상환이자_log  \n",
       "0  18.698312  12.885864  11.895497  \n",
       "1  18.315000   0.000000   0.000000  \n",
       "2  18.826146  14.396038  12.549027  \n",
       "3  18.005165  13.413577  12.548687  \n",
       "4  17.826474  14.038697  13.329125  "
      ]
     },
     "execution_count": 30,
     "metadata": {},
     "output_type": "execute_result"
    }
   ],
   "source": [
    "test.head()"
   ]
  },
  {
   "cell_type": "code",
   "execution_count": 31,
   "id": "e7c081e1",
   "metadata": {},
   "outputs": [
    {
     "data": {
      "text/plain": [
       "(64197, 18)"
      ]
     },
     "execution_count": 31,
     "metadata": {},
     "output_type": "execute_result"
    }
   ],
   "source": [
    "test.shape"
   ]
  },
  {
   "cell_type": "code",
   "execution_count": 34,
   "id": "43a6b86e",
   "metadata": {},
   "outputs": [
    {
     "data": {
      "text/html": [
       "<div>\n",
       "<style scoped>\n",
       "    .dataframe tbody tr th:only-of-type {\n",
       "        vertical-align: middle;\n",
       "    }\n",
       "\n",
       "    .dataframe tbody tr th {\n",
       "        vertical-align: top;\n",
       "    }\n",
       "\n",
       "    .dataframe thead th {\n",
       "        text-align: right;\n",
       "    }\n",
       "</style>\n",
       "<table border=\"1\" class=\"dataframe\">\n",
       "  <thead>\n",
       "    <tr style=\"text-align: right;\">\n",
       "      <th></th>\n",
       "      <th>총상환원금비율</th>\n",
       "      <th>총상환이자비율</th>\n",
       "      <th>총상환원금_log</th>\n",
       "      <th>총상환이자_log</th>\n",
       "    </tr>\n",
       "  </thead>\n",
       "  <tbody>\n",
       "    <tr>\n",
       "      <th>0</th>\n",
       "      <td>0.023494</td>\n",
       "      <td>0.008726</td>\n",
       "      <td>12.885864</td>\n",
       "      <td>11.895497</td>\n",
       "    </tr>\n",
       "    <tr>\n",
       "      <th>1</th>\n",
       "      <td>0.000000</td>\n",
       "      <td>0.000000</td>\n",
       "      <td>0.000000</td>\n",
       "      <td>0.000000</td>\n",
       "    </tr>\n",
       "    <tr>\n",
       "      <th>2</th>\n",
       "      <td>0.103413</td>\n",
       "      <td>0.016309</td>\n",
       "      <td>14.396038</td>\n",
       "      <td>12.549027</td>\n",
       "    </tr>\n",
       "    <tr>\n",
       "      <th>3</th>\n",
       "      <td>0.046460</td>\n",
       "      <td>0.019564</td>\n",
       "      <td>13.413577</td>\n",
       "      <td>12.548687</td>\n",
       "    </tr>\n",
       "    <tr>\n",
       "      <th>4</th>\n",
       "      <td>0.045292</td>\n",
       "      <td>0.022277</td>\n",
       "      <td>14.038697</td>\n",
       "      <td>13.329125</td>\n",
       "    </tr>\n",
       "  </tbody>\n",
       "</table>\n",
       "</div>"
      ],
      "text/plain": [
       "    총상환원금비율   총상환이자비율  총상환원금_log  총상환이자_log\n",
       "0  0.023494  0.008726  12.885864  11.895497\n",
       "1  0.000000  0.000000   0.000000   0.000000\n",
       "2  0.103413  0.016309  14.396038  12.549027\n",
       "3  0.046460  0.019564  13.413577  12.548687\n",
       "4  0.045292  0.022277  14.038697  13.329125"
      ]
     },
     "execution_count": 34,
     "metadata": {},
     "output_type": "execute_result"
    }
   ],
   "source": [
    "test_df = test[['총상환원금비율', '총상환이자비율', '총상환원금_log', '총상환이자_log']]\n",
    "test_df.head()"
   ]
  },
  {
   "cell_type": "markdown",
   "id": "d04b06ae",
   "metadata": {},
   "source": [
    "## 훈련"
   ]
  },
  {
   "cell_type": "code",
   "execution_count": 36,
   "id": "b9a0d372",
   "metadata": {},
   "outputs": [],
   "source": [
    "numeric_cols = ['총상환원금_log', '총상환이자_log','총상환원금비율', '총상환이자비율']"
   ]
  },
  {
   "cell_type": "code",
   "execution_count": 38,
   "id": "2528b584",
   "metadata": {},
   "outputs": [],
   "source": [
    "train_scaled = train_df.copy()\n",
    "test_scaled = test_df.copy()"
   ]
  },
  {
   "cell_type": "code",
   "execution_count": 39,
   "id": "2c24268c",
   "metadata": {},
   "outputs": [],
   "source": [
    "# 스케일링\n",
    "# 이상치가 많고 정규분포를 따르는 특성이 없기 때문에 RobustScaler 선택\n",
    "from sklearn.preprocessing import RobustScaler\n",
    "\n",
    "scaler = RobustScaler()\n",
    "train_scaled[numeric_cols] = scaler.fit_transform(train_scaled[numeric_cols])\n",
    "test_scaled[numeric_cols] = scaler.transform(test_scaled[numeric_cols])"
   ]
  },
  {
   "cell_type": "code",
   "execution_count": 40,
   "id": "8168672a",
   "metadata": {},
   "outputs": [],
   "source": [
    "X = train_scaled.drop(['대출등급'], axis=1)\n",
    "y = train_scaled['대출등급']"
   ]
  },
  {
   "cell_type": "code",
   "execution_count": 42,
   "id": "361de131",
   "metadata": {},
   "outputs": [
    {
     "data": {
      "text/html": [
       "<style>#sk-container-id-1 {color: black;}#sk-container-id-1 pre{padding: 0;}#sk-container-id-1 div.sk-toggleable {background-color: white;}#sk-container-id-1 label.sk-toggleable__label {cursor: pointer;display: block;width: 100%;margin-bottom: 0;padding: 0.3em;box-sizing: border-box;text-align: center;}#sk-container-id-1 label.sk-toggleable__label-arrow:before {content: \"▸\";float: left;margin-right: 0.25em;color: #696969;}#sk-container-id-1 label.sk-toggleable__label-arrow:hover:before {color: black;}#sk-container-id-1 div.sk-estimator:hover label.sk-toggleable__label-arrow:before {color: black;}#sk-container-id-1 div.sk-toggleable__content {max-height: 0;max-width: 0;overflow: hidden;text-align: left;background-color: #f0f8ff;}#sk-container-id-1 div.sk-toggleable__content pre {margin: 0.2em;color: black;border-radius: 0.25em;background-color: #f0f8ff;}#sk-container-id-1 input.sk-toggleable__control:checked~div.sk-toggleable__content {max-height: 200px;max-width: 100%;overflow: auto;}#sk-container-id-1 input.sk-toggleable__control:checked~label.sk-toggleable__label-arrow:before {content: \"▾\";}#sk-container-id-1 div.sk-estimator input.sk-toggleable__control:checked~label.sk-toggleable__label {background-color: #d4ebff;}#sk-container-id-1 div.sk-label input.sk-toggleable__control:checked~label.sk-toggleable__label {background-color: #d4ebff;}#sk-container-id-1 input.sk-hidden--visually {border: 0;clip: rect(1px 1px 1px 1px);clip: rect(1px, 1px, 1px, 1px);height: 1px;margin: -1px;overflow: hidden;padding: 0;position: absolute;width: 1px;}#sk-container-id-1 div.sk-estimator {font-family: monospace;background-color: #f0f8ff;border: 1px dotted black;border-radius: 0.25em;box-sizing: border-box;margin-bottom: 0.5em;}#sk-container-id-1 div.sk-estimator:hover {background-color: #d4ebff;}#sk-container-id-1 div.sk-parallel-item::after {content: \"\";width: 100%;border-bottom: 1px solid gray;flex-grow: 1;}#sk-container-id-1 div.sk-label:hover label.sk-toggleable__label {background-color: #d4ebff;}#sk-container-id-1 div.sk-serial::before {content: \"\";position: absolute;border-left: 1px solid gray;box-sizing: border-box;top: 0;bottom: 0;left: 50%;z-index: 0;}#sk-container-id-1 div.sk-serial {display: flex;flex-direction: column;align-items: center;background-color: white;padding-right: 0.2em;padding-left: 0.2em;position: relative;}#sk-container-id-1 div.sk-item {position: relative;z-index: 1;}#sk-container-id-1 div.sk-parallel {display: flex;align-items: stretch;justify-content: center;background-color: white;position: relative;}#sk-container-id-1 div.sk-item::before, #sk-container-id-1 div.sk-parallel-item::before {content: \"\";position: absolute;border-left: 1px solid gray;box-sizing: border-box;top: 0;bottom: 0;left: 50%;z-index: -1;}#sk-container-id-1 div.sk-parallel-item {display: flex;flex-direction: column;z-index: 1;position: relative;background-color: white;}#sk-container-id-1 div.sk-parallel-item:first-child::after {align-self: flex-end;width: 50%;}#sk-container-id-1 div.sk-parallel-item:last-child::after {align-self: flex-start;width: 50%;}#sk-container-id-1 div.sk-parallel-item:only-child::after {width: 0;}#sk-container-id-1 div.sk-dashed-wrapped {border: 1px dashed gray;margin: 0 0.4em 0.5em 0.4em;box-sizing: border-box;padding-bottom: 0.4em;background-color: white;}#sk-container-id-1 div.sk-label label {font-family: monospace;font-weight: bold;display: inline-block;line-height: 1.2em;}#sk-container-id-1 div.sk-label-container {text-align: center;}#sk-container-id-1 div.sk-container {/* jupyter's `normalize.less` sets `[hidden] { display: none; }` but bootstrap.min.css set `[hidden] { display: none !important; }` so we also need the `!important` here to be able to override the default hidden behavior on the sphinx rendered scikit-learn.org. See: https://github.com/scikit-learn/scikit-learn/issues/21755 */display: inline-block !important;position: relative;}#sk-container-id-1 div.sk-text-repr-fallback {display: none;}</style><div id=\"sk-container-id-1\" class=\"sk-top-container\"><div class=\"sk-text-repr-fallback\"><pre>RandomForestClassifier(random_state=42)</pre><b>In a Jupyter environment, please rerun this cell to show the HTML representation or trust the notebook. <br />On GitHub, the HTML representation is unable to render, please try loading this page with nbviewer.org.</b></div><div class=\"sk-container\" hidden><div class=\"sk-item\"><div class=\"sk-estimator sk-toggleable\"><input class=\"sk-toggleable__control sk-hidden--visually\" id=\"sk-estimator-id-1\" type=\"checkbox\" checked><label for=\"sk-estimator-id-1\" class=\"sk-toggleable__label sk-toggleable__label-arrow\">RandomForestClassifier</label><div class=\"sk-toggleable__content\"><pre>RandomForestClassifier(random_state=42)</pre></div></div></div></div></div>"
      ],
      "text/plain": [
       "RandomForestClassifier(random_state=42)"
      ]
     },
     "execution_count": 42,
     "metadata": {},
     "output_type": "execute_result"
    }
   ],
   "source": [
    "from sklearn.ensemble import RandomForestClassifier\n",
    "\n",
    "rf = RandomForestClassifier(random_state=42)\n",
    "rf.fit(X, y)"
   ]
  },
  {
   "cell_type": "code",
   "execution_count": 43,
   "id": "413a85af",
   "metadata": {},
   "outputs": [],
   "source": [
    "pred = rf.predict(test_scaled)"
   ]
  },
  {
   "cell_type": "code",
   "execution_count": 44,
   "id": "d2d4fac2",
   "metadata": {},
   "outputs": [
    {
     "data": {
      "text/html": [
       "<div>\n",
       "<style scoped>\n",
       "    .dataframe tbody tr th:only-of-type {\n",
       "        vertical-align: middle;\n",
       "    }\n",
       "\n",
       "    .dataframe tbody tr th {\n",
       "        vertical-align: top;\n",
       "    }\n",
       "\n",
       "    .dataframe thead th {\n",
       "        text-align: right;\n",
       "    }\n",
       "</style>\n",
       "<table border=\"1\" class=\"dataframe\">\n",
       "  <thead>\n",
       "    <tr style=\"text-align: right;\">\n",
       "      <th></th>\n",
       "      <th>ID</th>\n",
       "      <th>대출등급</th>\n",
       "    </tr>\n",
       "  </thead>\n",
       "  <tbody>\n",
       "    <tr>\n",
       "      <th>0</th>\n",
       "      <td>TEST_00000</td>\n",
       "      <td>B</td>\n",
       "    </tr>\n",
       "    <tr>\n",
       "      <th>1</th>\n",
       "      <td>TEST_00001</td>\n",
       "      <td>B</td>\n",
       "    </tr>\n",
       "    <tr>\n",
       "      <th>2</th>\n",
       "      <td>TEST_00002</td>\n",
       "      <td>A</td>\n",
       "    </tr>\n",
       "    <tr>\n",
       "      <th>3</th>\n",
       "      <td>TEST_00003</td>\n",
       "      <td>C</td>\n",
       "    </tr>\n",
       "    <tr>\n",
       "      <th>4</th>\n",
       "      <td>TEST_00004</td>\n",
       "      <td>C</td>\n",
       "    </tr>\n",
       "  </tbody>\n",
       "</table>\n",
       "</div>"
      ],
      "text/plain": [
       "           ID 대출등급\n",
       "0  TEST_00000    B\n",
       "1  TEST_00001    B\n",
       "2  TEST_00002    A\n",
       "3  TEST_00003    C\n",
       "4  TEST_00004    C"
      ]
     },
     "execution_count": 44,
     "metadata": {},
     "output_type": "execute_result"
    }
   ],
   "source": [
    "sub = pd.read_csv('sample_submission.csv')\n",
    "sub['대출등급'] = pred\n",
    "sub.head()"
   ]
  },
  {
   "cell_type": "code",
   "execution_count": 45,
   "id": "620a8981",
   "metadata": {},
   "outputs": [],
   "source": [
    "sub.to_csv('submission1.csv', index=False)"
   ]
  }
 ],
 "metadata": {
  "kernelspec": {
   "display_name": "Python 3 (ipykernel)",
   "language": "python",
   "name": "python3"
  },
  "language_info": {
   "codemirror_mode": {
    "name": "ipython",
    "version": 3
   },
   "file_extension": ".py",
   "mimetype": "text/x-python",
   "name": "python",
   "nbconvert_exporter": "python",
   "pygments_lexer": "ipython3",
   "version": "3.11.5"
  }
 },
 "nbformat": 4,
 "nbformat_minor": 5
}
